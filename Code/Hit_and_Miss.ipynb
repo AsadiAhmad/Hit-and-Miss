{
  "nbformat": 4,
  "nbformat_minor": 0,
  "metadata": {
    "colab": {
      "provenance": [],
      "collapsed_sections": [
        "a5LASOj_HjuT",
        "bV1rc0dOHmNJ",
        "9K_NtZRVUjAn",
        "eLg7ANRKWTlu",
        "EAyAcB8RcTJn"
      ],
      "authorship_tag": "ABX9TyMl8iRIzY/Apq8k7PMg9n2d",
      "include_colab_link": true
    },
    "kernelspec": {
      "name": "python3",
      "display_name": "Python 3"
    },
    "language_info": {
      "name": "python"
    }
  },
  "cells": [
    {
      "cell_type": "markdown",
      "metadata": {
        "id": "view-in-github",
        "colab_type": "text"
      },
      "source": [
        "<a href=\"https://colab.research.google.com/github/AsadiAhmad/Hit-and-Miss/blob/main/Code/Hit_and_Miss.ipynb\" target=\"_parent\"><img src=\"https://colab.research.google.com/assets/colab-badge.svg\" alt=\"Open In Colab\"/></a>"
      ]
    },
    {
      "cell_type": "markdown",
      "source": [
        "# Step 1: Import Libraries"
      ],
      "metadata": {
        "id": "a5LASOj_HjuT"
      }
    },
    {
      "cell_type": "code",
      "execution_count": null,
      "metadata": {
        "id": "gZqY7dIzHR7I"
      },
      "outputs": [],
      "source": [
        "import numpy as np"
      ]
    },
    {
      "cell_type": "markdown",
      "source": [
        "# Step 2: Define Image with numpy"
      ],
      "metadata": {
        "id": "bV1rc0dOHmNJ"
      }
    },
    {
      "cell_type": "code",
      "source": [
        "image = np.array([[0, 0, 0, 0, 0, 0, 0, 0, 0, 0, 0, 0, 0, 0],\n",
        "                  [0, 0, 0, 0, 0, 0, 0, 0, 0, 0, 0, 0, 0, 0],\n",
        "                  [0, 0, 0, 0, 0, 0, 1, 1, 0, 0, 0, 0, 0, 0],\n",
        "                  [0, 0, 0, 0, 0, 1, 1, 1, 1, 1, 0, 0, 0, 0],\n",
        "                  [0, 0, 0, 0, 1, 1, 1, 1, 1, 0, 0, 0, 0, 0],\n",
        "                  [0, 0, 0, 0, 1, 1, 1, 1, 1, 1, 1, 0, 0, 0],\n",
        "                  [0, 0, 1, 1, 1, 1, 1, 1, 1, 0, 0, 0, 0, 0],\n",
        "                  [0, 0, 1, 1, 1, 1, 1, 1, 1, 1, 1, 1, 0, 0],\n",
        "                  [0, 0, 0, 0, 0, 1, 1, 1, 1, 0, 1, 0, 0, 0],\n",
        "                  [0, 0, 1, 0, 1, 1, 1, 1, 1, 0, 1, 0, 0, 0],\n",
        "                  [0, 0, 1, 1, 1, 1, 1, 1, 1, 1, 1, 0, 0, 0],\n",
        "                  [0, 0, 0, 0, 1, 0, 0, 0, 1, 0, 0, 0, 0, 0],\n",
        "                  [0, 0, 0, 0, 0, 0, 0, 0, 1, 0, 0, 0, 0, 0],\n",
        "                  [0, 0, 0, 0, 0, 0, 0, 0, 0, 0, 0, 0, 0, 0]] , dtype=np.int8)"
      ],
      "metadata": {
        "id": "JCpoNtWGJPhR"
      },
      "execution_count": null,
      "outputs": []
    },
    {
      "cell_type": "markdown",
      "source": [
        "# Step 3: Define Kernels"
      ],
      "metadata": {
        "id": "9K_NtZRVUjAn"
      }
    },
    {
      "cell_type": "markdown",
      "source": [
        "## Corner kernels"
      ],
      "metadata": {
        "id": "sLmSHL1iVkDe"
      }
    },
    {
      "cell_type": "code",
      "source": [
        "nw_kernel = np.array([[-1, -1,  0],\n",
        "                      [-1,  1,  1],\n",
        "                      [ 0,  1,  0]], dtype=np.int8)\n",
        "\n",
        "ne_kernel = np.array([[ 0, -1, -1],\n",
        "                      [ 1,  1, -1],\n",
        "                      [ 0,  1,  0]], dtype=np.int8)\n",
        "\n",
        "se_kernel = np.array([[ 0,  1,  0],\n",
        "                      [ 1,  1, -1],\n",
        "                      [ 0, -1, -1]], dtype=np.int8)\n",
        "\n",
        "sw_kernel = np.array([[ 0,  1,  0],\n",
        "                      [-1,  1,  1],\n",
        "                      [-1, -1,  0]], dtype=np.int8)"
      ],
      "metadata": {
        "id": "V_dHXlL5UkpH"
      },
      "execution_count": null,
      "outputs": []
    },
    {
      "cell_type": "markdown",
      "source": [
        "## Edge kernels"
      ],
      "metadata": {
        "id": "SdEmmeeba1BJ"
      }
    },
    {
      "cell_type": "code",
      "source": [
        "n_kernel = np.array([[-1, -1,  0],\n",
        "                     [ 1,  1,  0],\n",
        "                     [ 0,  0,  0]], dtype=np.int8)\n",
        "\n",
        "e_kernel = np.array([[ 0,  1, -1],\n",
        "                     [ 0,  1, -1],\n",
        "                     [ 0,  0,  0]], dtype=np.int8)\n",
        "\n",
        "s_kernel = np.array([[ 0,  0,  0],\n",
        "                     [ 0,  1,  1],\n",
        "                     [ 0, -1, -1]], dtype=np.int8)\n",
        "\n",
        "w_kernel = np.array([[ 0,  0,  0],\n",
        "                     [-1,  1,  0],\n",
        "                     [-1,  1,  0]], dtype=np.int8)"
      ],
      "metadata": {
        "id": "q3znW7XLa00H"
      },
      "execution_count": null,
      "outputs": []
    },
    {
      "cell_type": "markdown",
      "source": [
        "# Step 4: Calculate Hit or Miss"
      ],
      "metadata": {
        "id": "eLg7ANRKWTlu"
      }
    },
    {
      "cell_type": "code",
      "source": [
        "def calculate_hit_or_miss(image, kernel, condition_sum):\n",
        "    converted_image = np.where(image == 1, 1, -1).astype(np.int8)\n",
        "    height, width = converted_image.shape\n",
        "    matrix = np.zeros((height, width), dtype='int8')\n",
        "    for i in range(1, height-2):\n",
        "        for j in range(1, width-2):\n",
        "            result = converted_image[i-1:i+2, j-1:j+2] * kernel\n",
        "            result = result.flatten().tolist()\n",
        "            if sum(result) == condition_sum:\n",
        "                matrix[i, j] = 1\n",
        "    return matrix"
      ],
      "metadata": {
        "id": "TFw2YYMMWYsB"
      },
      "execution_count": null,
      "outputs": []
    },
    {
      "cell_type": "code",
      "source": [
        "matrix1 = calculate_hit_or_miss(image, nw_kernel, 6)\n",
        "matrix2 = calculate_hit_or_miss(image, ne_kernel, 6)\n",
        "matrix3 = calculate_hit_or_miss(image, sw_kernel, 6)\n",
        "matrix4 = calculate_hit_or_miss(image, se_kernel, 6)\n",
        "matrix5 = calculate_hit_or_miss(image, n_kernel, 4)\n",
        "matrix6 = calculate_hit_or_miss(image, e_kernel, 4)\n",
        "matrix7 = calculate_hit_or_miss(image, s_kernel, 4)\n",
        "matrix8 = calculate_hit_or_miss(image, w_kernel, 4)"
      ],
      "metadata": {
        "id": "n-DMzV-_Wxz_"
      },
      "execution_count": null,
      "outputs": []
    },
    {
      "cell_type": "markdown",
      "source": [
        "# Step 5: Or all Matrices"
      ],
      "metadata": {
        "id": "EAyAcB8RcTJn"
      }
    },
    {
      "cell_type": "code",
      "source": [
        "matrices_list = [matrix1, matrix2, matrix3, matrix4, matrix5, matrix6, matrix7, matrix8]\n",
        "final_matrix = matrices_list[0].copy()\n",
        "\n",
        "for mat in matrices_list[1:]:\n",
        "    final_matrix = np.logical_or(final_matrix, mat)\n",
        "\n",
        "final_matrix = final_matrix.astype(np.int8)"
      ],
      "metadata": {
        "id": "Ys3_A38ScZTx"
      },
      "execution_count": null,
      "outputs": []
    },
    {
      "cell_type": "code",
      "source": [
        "print(final_matrix)"
      ],
      "metadata": {
        "colab": {
          "base_uri": "https://localhost:8080/"
        },
        "id": "Sf-SiTdKdQSE",
        "outputId": "ae64eb3a-b82c-432a-cce6-3c2cef5e93e4"
      },
      "execution_count": null,
      "outputs": [
        {
          "output_type": "stream",
          "name": "stdout",
          "text": [
            "[[0 0 0 0 0 0 0 0 0 0 0 0 0 0]\n",
            " [0 0 0 0 0 0 0 0 0 0 0 0 0 0]\n",
            " [0 0 0 0 0 0 1 1 0 0 0 0 0 0]\n",
            " [0 0 0 0 0 1 0 0 0 1 0 0 0 0]\n",
            " [0 0 0 0 1 0 0 0 0 0 0 0 0 0]\n",
            " [0 0 0 0 0 0 0 0 0 1 1 0 0 0]\n",
            " [0 0 1 1 0 0 0 0 0 0 0 0 0 0]\n",
            " [0 0 1 1 0 0 0 0 0 0 1 1 0 0]\n",
            " [0 0 0 0 0 0 0 0 0 0 1 0 0 0]\n",
            " [0 0 1 0 1 0 0 0 1 0 1 0 0 0]\n",
            " [0 0 1 0 0 1 1 0 0 1 1 0 0 0]\n",
            " [0 0 0 0 0 0 0 0 1 0 0 0 0 0]\n",
            " [0 0 0 0 0 0 0 0 0 0 0 0 0 0]\n",
            " [0 0 0 0 0 0 0 0 0 0 0 0 0 0]]\n"
          ]
        }
      ]
    }
  ]
}